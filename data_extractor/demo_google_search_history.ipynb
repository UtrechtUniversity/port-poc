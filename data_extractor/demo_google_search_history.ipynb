{
 "cells": [
  {
   "cell_type": "markdown",
   "metadata": {},
   "source": [
    "## Analyzing google_search_history script"
   ]
  },
  {
   "cell_type": "code",
   "execution_count": 1,
   "metadata": {},
   "outputs": [],
   "source": [
    "from google_search_history import process\n",
    "from tests import test_google_search_history, simulation_google_search_history\n",
    "from pathlib import Path\n",
    "import pandas as pd\n",
    "import io"
   ]
  },
  {
   "cell_type": "markdown",
   "metadata": {},
   "source": [
    "### 1. Testing functionality of script"
   ]
  },
  {
   "cell_type": "code",
   "execution_count": 2,
   "metadata": {},
   "outputs": [],
   "source": [
    "test_google_search_history.test_extract() # if not AssertionError: outcome is as expected"
   ]
  },
  {
   "cell_type": "code",
   "execution_count": 3,
   "metadata": {},
   "outputs": [],
   "source": [
    "test_google_search_history.test_process() # if not AssertionError: outcome is as expected"
   ]
  },
  {
   "cell_type": "markdown",
   "metadata": {},
   "source": [
    "### 2. Use case: simulated Google Takeout data"
   ]
  },
  {
   "cell_type": "code",
   "execution_count": 4,
   "metadata": {},
   "outputs": [],
   "source": [
    "# # Create seeded simulation data\n",
    "# file_data = POC_google_search_history.BrowserHistory(\n",
    "#         n=1000, site_diff=0.15, time_diff=True, seed=0, fake=False)\n",
    "# POC_google_search_history.__createZip(file_data)"
   ]
  },
  {
   "cell_type": "code",
   "execution_count": 7,
   "metadata": {
    "scrolled": true
   },
   "outputs": [
    {
     "data": {
      "text/plain": [
       "{'summary': '\\nWith this research we want to invesitgate how our news consumption behavior has changed during/after the COVID-19 related curfew. To examine this, we looked at your Google Search History.\\nFirst, we divided your browser history into three periods:\\n- before the start of the curfew (i.e., pages visited before 2021-01-23 21:00:00),\\n- during the curfew (i.e., pages visited between 2021-01-23 21:00:00 and 2021-04-28 04:30:00) and\\n- post curfew (i.e., pages visited after 2021-04-28 04:30:00).\\nFor each period, we counted how many times you visited a news website versus any another type of website (i.e., news/other). While counting, we also took the time of day (i.e., morning/afternoon/evening/night) into account.\\n\\n    read_files: BrowserHistory.json\\n    Your earliest web search was on 2020-10-22 22:55:00,\\n    The Dutch curfew took place between 2021-01-23 21:00:00 and 2021-04-28 04:30:00,\\n    Your latest web search was on 2021-07-22 15:39:00.\\n    ',\n",
       " 'data_frames': [    Curfew Website       Time  Searches\n",
       "  0   before    news    morning         5\n",
       "  1   before    news  afternoon        12\n",
       "  2   before    news    evening         6\n",
       "  3   before    news      night         9\n",
       "  4   before   other    morning        53\n",
       "  5   before   other  afternoon        44\n",
       "  6   before   other    evening        48\n",
       "  7   before   other      night        45\n",
       "  8   during    news    morning         9\n",
       "  9   during    news  afternoon        12\n",
       "  10  during    news    evening        26\n",
       "  11  during    news      night        13\n",
       "  12  during   other    morning        32\n",
       "  13  during   other  afternoon        30\n",
       "  14  during   other    evening        75\n",
       "  15  during   other      night        35\n",
       "  16    post    news    morning         6\n",
       "  17    post    news  afternoon         8\n",
       "  18    post    news    evening         6\n",
       "  19    post    news      night         9\n",
       "  20    post   other    morning        52\n",
       "  21    post   other  afternoon        45\n",
       "  22    post   other    evening        44\n",
       "  23    post   other      night        51]}"
      ]
     },
     "execution_count": 7,
     "metadata": {},
     "output_type": "execute_result"
    }
   ],
   "source": [
    "data = Path('tests/data/takeout.zip') # Enter path to takeout.zip data\n",
    "output = process(data)\n",
    "output"
   ]
  },
  {
   "cell_type": "code",
   "execution_count": 8,
   "metadata": {},
   "outputs": [
    {
     "name": "stdout",
     "output_type": "stream",
     "text": [
      "\n",
      "With this research we want to invesitgate how our news consumption behavior has changed during/after the COVID-19 related curfew. To examine this, we looked at your Google Search History.\n",
      "First, we divided your browser history into three periods:\n",
      "- before the start of the curfew (i.e., pages visited before 2021-01-23 21:00:00),\n",
      "- during the curfew (i.e., pages visited between 2021-01-23 21:00:00 and 2021-04-28 04:30:00) and\n",
      "- post curfew (i.e., pages visited after 2021-04-28 04:30:00).\n",
      "For each period, we counted how many times you visited a news website versus any another type of website (i.e., news/other). While counting, we also took the time of day (i.e., morning/afternoon/evening/night) into account.\n",
      "\n",
      "    read_files: BrowserHistory.json\n",
      "    Your earliest web search was on 2020-10-22 22:55:00,\n",
      "    The Dutch curfew took place between 2021-01-23 21:00:00 and 2021-04-28 04:30:00,\n",
      "    Your latest web search was on 2021-07-22 15:39:00.\n",
      "    \n"
     ]
    }
   ],
   "source": [
    "print(output['summary'])"
   ]
  },
  {
   "cell_type": "code",
   "execution_count": 9,
   "metadata": {},
   "outputs": [
    {
     "data": {
      "text/html": [
       "<div>\n",
       "<style scoped>\n",
       "    .dataframe tbody tr th:only-of-type {\n",
       "        vertical-align: middle;\n",
       "    }\n",
       "\n",
       "    .dataframe tbody tr th {\n",
       "        vertical-align: top;\n",
       "    }\n",
       "\n",
       "    .dataframe thead th {\n",
       "        text-align: right;\n",
       "    }\n",
       "</style>\n",
       "<table border=\"1\" class=\"dataframe\">\n",
       "  <thead>\n",
       "    <tr style=\"text-align: right;\">\n",
       "      <th></th>\n",
       "      <th>Curfew</th>\n",
       "      <th>Website</th>\n",
       "      <th>Time</th>\n",
       "      <th>Searches</th>\n",
       "    </tr>\n",
       "  </thead>\n",
       "  <tbody>\n",
       "    <tr>\n",
       "      <th>0</th>\n",
       "      <td>before</td>\n",
       "      <td>news</td>\n",
       "      <td>morning</td>\n",
       "      <td>5</td>\n",
       "    </tr>\n",
       "    <tr>\n",
       "      <th>1</th>\n",
       "      <td>before</td>\n",
       "      <td>news</td>\n",
       "      <td>afternoon</td>\n",
       "      <td>12</td>\n",
       "    </tr>\n",
       "    <tr>\n",
       "      <th>2</th>\n",
       "      <td>before</td>\n",
       "      <td>news</td>\n",
       "      <td>evening</td>\n",
       "      <td>6</td>\n",
       "    </tr>\n",
       "    <tr>\n",
       "      <th>3</th>\n",
       "      <td>before</td>\n",
       "      <td>news</td>\n",
       "      <td>night</td>\n",
       "      <td>9</td>\n",
       "    </tr>\n",
       "    <tr>\n",
       "      <th>4</th>\n",
       "      <td>before</td>\n",
       "      <td>other</td>\n",
       "      <td>morning</td>\n",
       "      <td>53</td>\n",
       "    </tr>\n",
       "    <tr>\n",
       "      <th>5</th>\n",
       "      <td>before</td>\n",
       "      <td>other</td>\n",
       "      <td>afternoon</td>\n",
       "      <td>44</td>\n",
       "    </tr>\n",
       "    <tr>\n",
       "      <th>6</th>\n",
       "      <td>before</td>\n",
       "      <td>other</td>\n",
       "      <td>evening</td>\n",
       "      <td>48</td>\n",
       "    </tr>\n",
       "    <tr>\n",
       "      <th>7</th>\n",
       "      <td>before</td>\n",
       "      <td>other</td>\n",
       "      <td>night</td>\n",
       "      <td>45</td>\n",
       "    </tr>\n",
       "    <tr>\n",
       "      <th>8</th>\n",
       "      <td>during</td>\n",
       "      <td>news</td>\n",
       "      <td>morning</td>\n",
       "      <td>9</td>\n",
       "    </tr>\n",
       "    <tr>\n",
       "      <th>9</th>\n",
       "      <td>during</td>\n",
       "      <td>news</td>\n",
       "      <td>afternoon</td>\n",
       "      <td>12</td>\n",
       "    </tr>\n",
       "    <tr>\n",
       "      <th>10</th>\n",
       "      <td>during</td>\n",
       "      <td>news</td>\n",
       "      <td>evening</td>\n",
       "      <td>26</td>\n",
       "    </tr>\n",
       "    <tr>\n",
       "      <th>11</th>\n",
       "      <td>during</td>\n",
       "      <td>news</td>\n",
       "      <td>night</td>\n",
       "      <td>13</td>\n",
       "    </tr>\n",
       "    <tr>\n",
       "      <th>12</th>\n",
       "      <td>during</td>\n",
       "      <td>other</td>\n",
       "      <td>morning</td>\n",
       "      <td>32</td>\n",
       "    </tr>\n",
       "    <tr>\n",
       "      <th>13</th>\n",
       "      <td>during</td>\n",
       "      <td>other</td>\n",
       "      <td>afternoon</td>\n",
       "      <td>30</td>\n",
       "    </tr>\n",
       "    <tr>\n",
       "      <th>14</th>\n",
       "      <td>during</td>\n",
       "      <td>other</td>\n",
       "      <td>evening</td>\n",
       "      <td>75</td>\n",
       "    </tr>\n",
       "    <tr>\n",
       "      <th>15</th>\n",
       "      <td>during</td>\n",
       "      <td>other</td>\n",
       "      <td>night</td>\n",
       "      <td>35</td>\n",
       "    </tr>\n",
       "    <tr>\n",
       "      <th>16</th>\n",
       "      <td>post</td>\n",
       "      <td>news</td>\n",
       "      <td>morning</td>\n",
       "      <td>6</td>\n",
       "    </tr>\n",
       "    <tr>\n",
       "      <th>17</th>\n",
       "      <td>post</td>\n",
       "      <td>news</td>\n",
       "      <td>afternoon</td>\n",
       "      <td>8</td>\n",
       "    </tr>\n",
       "    <tr>\n",
       "      <th>18</th>\n",
       "      <td>post</td>\n",
       "      <td>news</td>\n",
       "      <td>evening</td>\n",
       "      <td>6</td>\n",
       "    </tr>\n",
       "    <tr>\n",
       "      <th>19</th>\n",
       "      <td>post</td>\n",
       "      <td>news</td>\n",
       "      <td>night</td>\n",
       "      <td>9</td>\n",
       "    </tr>\n",
       "    <tr>\n",
       "      <th>20</th>\n",
       "      <td>post</td>\n",
       "      <td>other</td>\n",
       "      <td>morning</td>\n",
       "      <td>52</td>\n",
       "    </tr>\n",
       "    <tr>\n",
       "      <th>21</th>\n",
       "      <td>post</td>\n",
       "      <td>other</td>\n",
       "      <td>afternoon</td>\n",
       "      <td>45</td>\n",
       "    </tr>\n",
       "    <tr>\n",
       "      <th>22</th>\n",
       "      <td>post</td>\n",
       "      <td>other</td>\n",
       "      <td>evening</td>\n",
       "      <td>44</td>\n",
       "    </tr>\n",
       "    <tr>\n",
       "      <th>23</th>\n",
       "      <td>post</td>\n",
       "      <td>other</td>\n",
       "      <td>night</td>\n",
       "      <td>51</td>\n",
       "    </tr>\n",
       "  </tbody>\n",
       "</table>\n",
       "</div>"
      ],
      "text/plain": [
       "    Curfew Website       Time  Searches\n",
       "0   before    news    morning         5\n",
       "1   before    news  afternoon        12\n",
       "2   before    news    evening         6\n",
       "3   before    news      night         9\n",
       "4   before   other    morning        53\n",
       "5   before   other  afternoon        44\n",
       "6   before   other    evening        48\n",
       "7   before   other      night        45\n",
       "8   during    news    morning         9\n",
       "9   during    news  afternoon        12\n",
       "10  during    news    evening        26\n",
       "11  during    news      night        13\n",
       "12  during   other    morning        32\n",
       "13  during   other  afternoon        30\n",
       "14  during   other    evening        75\n",
       "15  during   other      night        35\n",
       "16    post    news    morning         6\n",
       "17    post    news  afternoon         8\n",
       "18    post    news    evening         6\n",
       "19    post    news      night         9\n",
       "20    post   other    morning        52\n",
       "21    post   other  afternoon        45\n",
       "22    post   other    evening        44\n",
       "23    post   other      night        51"
      ]
     },
     "execution_count": 9,
     "metadata": {},
     "output_type": "execute_result"
    }
   ],
   "source": [
    "overview = output['data_frames'][0]\n",
    "overview"
   ]
  },
  {
   "cell_type": "code",
   "execution_count": 10,
   "metadata": {},
   "outputs": [
    {
     "data": {
      "text/html": [
       "<div>\n",
       "<style scoped>\n",
       "    .dataframe tbody tr th:only-of-type {\n",
       "        vertical-align: middle;\n",
       "    }\n",
       "\n",
       "    .dataframe tbody tr th {\n",
       "        vertical-align: top;\n",
       "    }\n",
       "\n",
       "    .dataframe thead th {\n",
       "        text-align: right;\n",
       "    }\n",
       "</style>\n",
       "<table border=\"1\" class=\"dataframe\">\n",
       "  <thead>\n",
       "    <tr style=\"text-align: right;\">\n",
       "      <th></th>\n",
       "      <th>Searches</th>\n",
       "      <th>%</th>\n",
       "    </tr>\n",
       "    <tr>\n",
       "      <th>Website</th>\n",
       "      <th></th>\n",
       "      <th></th>\n",
       "    </tr>\n",
       "  </thead>\n",
       "  <tbody>\n",
       "    <tr>\n",
       "      <th>news</th>\n",
       "      <td>121</td>\n",
       "      <td>0.179259</td>\n",
       "    </tr>\n",
       "    <tr>\n",
       "      <th>other</th>\n",
       "      <td>554</td>\n",
       "      <td>0.820741</td>\n",
       "    </tr>\n",
       "  </tbody>\n",
       "</table>\n",
       "</div>"
      ],
      "text/plain": [
       "         Searches         %\n",
       "Website                    \n",
       "news          121  0.179259\n",
       "other         554  0.820741"
      ]
     },
     "execution_count": 10,
     "metadata": {},
     "output_type": "execute_result"
    }
   ],
   "source": [
    "curf_web = overview.groupby(['Website']).sum()\n",
    "curf_web['%'] = curf_web.apply(lambda x: x/x.sum())\n",
    "curf_web"
   ]
  },
  {
   "cell_type": "code",
   "execution_count": 11,
   "metadata": {},
   "outputs": [
    {
     "data": {
      "text/html": [
       "<div>\n",
       "<style scoped>\n",
       "    .dataframe tbody tr th:only-of-type {\n",
       "        vertical-align: middle;\n",
       "    }\n",
       "\n",
       "    .dataframe tbody tr th {\n",
       "        vertical-align: top;\n",
       "    }\n",
       "\n",
       "    .dataframe thead th {\n",
       "        text-align: right;\n",
       "    }\n",
       "</style>\n",
       "<table border=\"1\" class=\"dataframe\">\n",
       "  <thead>\n",
       "    <tr style=\"text-align: right;\">\n",
       "      <th></th>\n",
       "      <th></th>\n",
       "      <th>Searches</th>\n",
       "      <th>%</th>\n",
       "    </tr>\n",
       "    <tr>\n",
       "      <th>Curfew</th>\n",
       "      <th>Website</th>\n",
       "      <th></th>\n",
       "      <th></th>\n",
       "    </tr>\n",
       "  </thead>\n",
       "  <tbody>\n",
       "    <tr>\n",
       "      <th rowspan=\"2\" valign=\"top\">before</th>\n",
       "      <th>news</th>\n",
       "      <td>32</td>\n",
       "      <td>0.144144</td>\n",
       "    </tr>\n",
       "    <tr>\n",
       "      <th>other</th>\n",
       "      <td>190</td>\n",
       "      <td>0.855856</td>\n",
       "    </tr>\n",
       "    <tr>\n",
       "      <th rowspan=\"2\" valign=\"top\">during</th>\n",
       "      <th>news</th>\n",
       "      <td>60</td>\n",
       "      <td>0.258621</td>\n",
       "    </tr>\n",
       "    <tr>\n",
       "      <th>other</th>\n",
       "      <td>172</td>\n",
       "      <td>0.741379</td>\n",
       "    </tr>\n",
       "    <tr>\n",
       "      <th rowspan=\"2\" valign=\"top\">post</th>\n",
       "      <th>news</th>\n",
       "      <td>29</td>\n",
       "      <td>0.131222</td>\n",
       "    </tr>\n",
       "    <tr>\n",
       "      <th>other</th>\n",
       "      <td>192</td>\n",
       "      <td>0.868778</td>\n",
       "    </tr>\n",
       "  </tbody>\n",
       "</table>\n",
       "</div>"
      ],
      "text/plain": [
       "                Searches         %\n",
       "Curfew Website                    \n",
       "before news           32  0.144144\n",
       "       other         190  0.855856\n",
       "during news           60  0.258621\n",
       "       other         172  0.741379\n",
       "post   news           29  0.131222\n",
       "       other         192  0.868778"
      ]
     },
     "execution_count": 11,
     "metadata": {},
     "output_type": "execute_result"
    }
   ],
   "source": [
    "curf_web = overview.groupby(['Curfew', 'Website']).sum()\n",
    "curf_web['%'] = curf_web.groupby(level=0).apply(lambda x: x/x.sum())\n",
    "curf_web"
   ]
  },
  {
   "cell_type": "code",
   "execution_count": 12,
   "metadata": {},
   "outputs": [
    {
     "data": {
      "text/html": [
       "<div>\n",
       "<style scoped>\n",
       "    .dataframe tbody tr th:only-of-type {\n",
       "        vertical-align: middle;\n",
       "    }\n",
       "\n",
       "    .dataframe tbody tr th {\n",
       "        vertical-align: top;\n",
       "    }\n",
       "\n",
       "    .dataframe thead th {\n",
       "        text-align: right;\n",
       "    }\n",
       "</style>\n",
       "<table border=\"1\" class=\"dataframe\">\n",
       "  <thead>\n",
       "    <tr style=\"text-align: right;\">\n",
       "      <th></th>\n",
       "      <th></th>\n",
       "      <th></th>\n",
       "      <th>Searches</th>\n",
       "      <th>%</th>\n",
       "    </tr>\n",
       "    <tr>\n",
       "      <th>Curfew</th>\n",
       "      <th>Time</th>\n",
       "      <th>Website</th>\n",
       "      <th></th>\n",
       "      <th></th>\n",
       "    </tr>\n",
       "  </thead>\n",
       "  <tbody>\n",
       "    <tr>\n",
       "      <th rowspan=\"8\" valign=\"top\">before</th>\n",
       "      <th rowspan=\"2\" valign=\"top\">afternoon</th>\n",
       "      <th>news</th>\n",
       "      <td>12</td>\n",
       "      <td>0.214286</td>\n",
       "    </tr>\n",
       "    <tr>\n",
       "      <th>other</th>\n",
       "      <td>44</td>\n",
       "      <td>0.785714</td>\n",
       "    </tr>\n",
       "    <tr>\n",
       "      <th rowspan=\"2\" valign=\"top\">evening</th>\n",
       "      <th>news</th>\n",
       "      <td>6</td>\n",
       "      <td>0.111111</td>\n",
       "    </tr>\n",
       "    <tr>\n",
       "      <th>other</th>\n",
       "      <td>48</td>\n",
       "      <td>0.888889</td>\n",
       "    </tr>\n",
       "    <tr>\n",
       "      <th rowspan=\"2\" valign=\"top\">morning</th>\n",
       "      <th>news</th>\n",
       "      <td>5</td>\n",
       "      <td>0.086207</td>\n",
       "    </tr>\n",
       "    <tr>\n",
       "      <th>other</th>\n",
       "      <td>53</td>\n",
       "      <td>0.913793</td>\n",
       "    </tr>\n",
       "    <tr>\n",
       "      <th rowspan=\"2\" valign=\"top\">night</th>\n",
       "      <th>news</th>\n",
       "      <td>9</td>\n",
       "      <td>0.166667</td>\n",
       "    </tr>\n",
       "    <tr>\n",
       "      <th>other</th>\n",
       "      <td>45</td>\n",
       "      <td>0.833333</td>\n",
       "    </tr>\n",
       "    <tr>\n",
       "      <th rowspan=\"8\" valign=\"top\">during</th>\n",
       "      <th rowspan=\"2\" valign=\"top\">afternoon</th>\n",
       "      <th>news</th>\n",
       "      <td>12</td>\n",
       "      <td>0.285714</td>\n",
       "    </tr>\n",
       "    <tr>\n",
       "      <th>other</th>\n",
       "      <td>30</td>\n",
       "      <td>0.714286</td>\n",
       "    </tr>\n",
       "    <tr>\n",
       "      <th rowspan=\"2\" valign=\"top\">evening</th>\n",
       "      <th>news</th>\n",
       "      <td>26</td>\n",
       "      <td>0.257426</td>\n",
       "    </tr>\n",
       "    <tr>\n",
       "      <th>other</th>\n",
       "      <td>75</td>\n",
       "      <td>0.742574</td>\n",
       "    </tr>\n",
       "    <tr>\n",
       "      <th rowspan=\"2\" valign=\"top\">morning</th>\n",
       "      <th>news</th>\n",
       "      <td>9</td>\n",
       "      <td>0.219512</td>\n",
       "    </tr>\n",
       "    <tr>\n",
       "      <th>other</th>\n",
       "      <td>32</td>\n",
       "      <td>0.780488</td>\n",
       "    </tr>\n",
       "    <tr>\n",
       "      <th rowspan=\"2\" valign=\"top\">night</th>\n",
       "      <th>news</th>\n",
       "      <td>13</td>\n",
       "      <td>0.270833</td>\n",
       "    </tr>\n",
       "    <tr>\n",
       "      <th>other</th>\n",
       "      <td>35</td>\n",
       "      <td>0.729167</td>\n",
       "    </tr>\n",
       "    <tr>\n",
       "      <th rowspan=\"8\" valign=\"top\">post</th>\n",
       "      <th rowspan=\"2\" valign=\"top\">afternoon</th>\n",
       "      <th>news</th>\n",
       "      <td>8</td>\n",
       "      <td>0.150943</td>\n",
       "    </tr>\n",
       "    <tr>\n",
       "      <th>other</th>\n",
       "      <td>45</td>\n",
       "      <td>0.849057</td>\n",
       "    </tr>\n",
       "    <tr>\n",
       "      <th rowspan=\"2\" valign=\"top\">evening</th>\n",
       "      <th>news</th>\n",
       "      <td>6</td>\n",
       "      <td>0.120000</td>\n",
       "    </tr>\n",
       "    <tr>\n",
       "      <th>other</th>\n",
       "      <td>44</td>\n",
       "      <td>0.880000</td>\n",
       "    </tr>\n",
       "    <tr>\n",
       "      <th rowspan=\"2\" valign=\"top\">morning</th>\n",
       "      <th>news</th>\n",
       "      <td>6</td>\n",
       "      <td>0.103448</td>\n",
       "    </tr>\n",
       "    <tr>\n",
       "      <th>other</th>\n",
       "      <td>52</td>\n",
       "      <td>0.896552</td>\n",
       "    </tr>\n",
       "    <tr>\n",
       "      <th rowspan=\"2\" valign=\"top\">night</th>\n",
       "      <th>news</th>\n",
       "      <td>9</td>\n",
       "      <td>0.150000</td>\n",
       "    </tr>\n",
       "    <tr>\n",
       "      <th>other</th>\n",
       "      <td>51</td>\n",
       "      <td>0.850000</td>\n",
       "    </tr>\n",
       "  </tbody>\n",
       "</table>\n",
       "</div>"
      ],
      "text/plain": [
       "                          Searches         %\n",
       "Curfew Time      Website                    \n",
       "before afternoon news           12  0.214286\n",
       "                 other          44  0.785714\n",
       "       evening   news            6  0.111111\n",
       "                 other          48  0.888889\n",
       "       morning   news            5  0.086207\n",
       "                 other          53  0.913793\n",
       "       night     news            9  0.166667\n",
       "                 other          45  0.833333\n",
       "during afternoon news           12  0.285714\n",
       "                 other          30  0.714286\n",
       "       evening   news           26  0.257426\n",
       "                 other          75  0.742574\n",
       "       morning   news            9  0.219512\n",
       "                 other          32  0.780488\n",
       "       night     news           13  0.270833\n",
       "                 other          35  0.729167\n",
       "post   afternoon news            8  0.150943\n",
       "                 other          45  0.849057\n",
       "       evening   news            6  0.120000\n",
       "                 other          44  0.880000\n",
       "       morning   news            6  0.103448\n",
       "                 other          52  0.896552\n",
       "       night     news            9  0.150000\n",
       "                 other          51  0.850000"
      ]
     },
     "execution_count": 12,
     "metadata": {},
     "output_type": "execute_result"
    }
   ],
   "source": [
    "curf_time_web = overview.groupby(['Curfew', 'Time', 'Website']).sum()\n",
    "curf_time_web['%'] = curf_time_web.groupby(['Curfew', 'Time']).apply(lambda x: x/x.sum())\n",
    "curf_time_web"
   ]
  },
  {
   "cell_type": "code",
   "execution_count": 13,
   "metadata": {
    "scrolled": true
   },
   "outputs": [
    {
     "data": {
      "text/plain": [
       "<AxesSubplot:xlabel='Website', ylabel='Searches'>"
      ]
     },
     "execution_count": 13,
     "metadata": {},
     "output_type": "execute_result"
    },
    {
     "data": {
      "image/png": "[encoded data removed]",
      "text/plain": [
       "<Figure size 432x288 with 1 Axes>"
      ]
     },
     "metadata": {
      "needs_background": "light"
     },
     "output_type": "display_data"
    }
   ],
   "source": [
    "import seaborn as sns\n",
    "sns.barplot(x='Website', y='Searches', data=overview)"
   ]
  },
  {
   "cell_type": "markdown",
   "metadata": {},
   "source": [
    "### Browser history at different moments \n",
    "#### Number of news vs. other searches before, during and after the curfew"
   ]
  },
  {
   "cell_type": "code",
   "execution_count": 14,
   "metadata": {},
   "outputs": [
    {
     "data": {
      "text/plain": [
       "<AxesSubplot:xlabel='Curfew', ylabel='Searches'>"
      ]
     },
     "execution_count": 14,
     "metadata": {},
     "output_type": "execute_result"
    },
    {
     "data": {
      "image/png": "[encoded data removed]",
      "text/plain": [
       "<Figure size 432x288 with 1 Axes>"
      ]
     },
     "metadata": {
      "needs_background": "light"
     },
     "output_type": "display_data"
    }
   ],
   "source": [
    "sns.barplot(x='Curfew', y='Searches', hue='Website', data=overview)"
   ]
  },
  {
   "cell_type": "markdown",
   "metadata": {},
   "source": [
    "### Browser history at different times of the day\n",
    "#### Number of news vs. other searches at different times before the curfew"
   ]
  },
  {
   "cell_type": "code",
   "execution_count": 15,
   "metadata": {},
   "outputs": [
    {
     "data": {
      "text/plain": [
       "<AxesSubplot:xlabel='Time', ylabel='Searches'>"
      ]
     },
     "execution_count": 15,
     "metadata": {},
     "output_type": "execute_result"
    },
    {
     "data": {
      "image/png": "[encoded data removed]",
      "text/plain": [
       "<Figure size 432x288 with 1 Axes>"
      ]
     },
     "metadata": {
      "needs_background": "light"
     },
     "output_type": "display_data"
    }
   ],
   "source": [
    "sns.barplot(x='Time', y='Searches', hue='Website', data=overview[overview['Curfew'] == 'before'])"
   ]
  },
  {
   "cell_type": "markdown",
   "metadata": {},
   "source": [
    "#### Number of news vs. other searches at different times during the curfew"
   ]
  },
  {
   "cell_type": "code",
   "execution_count": 16,
   "metadata": {},
   "outputs": [
    {
     "data": {
      "text/plain": [
       "<AxesSubplot:xlabel='Time', ylabel='Searches'>"
      ]
     },
     "execution_count": 16,
     "metadata": {},
     "output_type": "execute_result"
    },
    {
     "data": {
      "image/png": "[encoded data removed]",
      "text/plain": [
       "<Figure size 432x288 with 1 Axes>"
      ]
     },
     "metadata": {
      "needs_background": "light"
     },
     "output_type": "display_data"
    }
   ],
   "source": [
    "sns.barplot(x='Time', y='Searches', hue='Website', data=overview[overview['Curfew'] == 'during'])"
   ]
  },
  {
   "cell_type": "markdown",
   "metadata": {},
   "source": [
    "#### Number of news vs. other searches at different times after the curfew"
   ]
  },
  {
   "cell_type": "code",
   "execution_count": 17,
   "metadata": {},
   "outputs": [
    {
     "data": {
      "text/plain": [
       "<AxesSubplot:xlabel='Time', ylabel='Searches'>"
      ]
     },
     "execution_count": 17,
     "metadata": {},
     "output_type": "execute_result"
    },
    {
     "data": {
      "image/png": "[encoded data removed]",
      "text/plain": [
       "<Figure size 432x288 with 1 Axes>"
      ]
     },
     "metadata": {
      "needs_background": "light"
     },
     "output_type": "display_data"
    }
   ],
   "source": [
    "sns.barplot(x='Time', y='Searches', hue='Website', data=overview[overview['Curfew'] == 'post'])"
   ]
  }
 ],
 "metadata": {
  "kernelspec": {
   "display_name": "Python 3",
   "language": "python",
   "name": "python3"
  },
  "language_info": {
   "codemirror_mode": {
    "name": "ipython",
    "version": 3
   },
   "file_extension": ".py",
   "mimetype": "text/x-python",
   "name": "python",
   "nbconvert_exporter": "python",
   "pygments_lexer": "ipython3",
   "version": "3.8.5"
  }
 },
 "nbformat": 4,
 "nbformat_minor": 4
}
