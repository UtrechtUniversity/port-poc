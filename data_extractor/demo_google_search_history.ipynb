{
 "cells": [
  {
   "cell_type": "markdown",
   "metadata": {},
   "source": [
    "## Analyzing google_search_history script"
   ]
  },
  {
   "cell_type": "code",
   "execution_count": 1,
   "metadata": {},
   "outputs": [],
   "source": [
    "from google_search_history import process\n",
    "from tests import test_google_search_history, simulation_google_search_history\n",
    "from pathlib import Path\n",
    "import pandas as pd\n",
    "import io"
   ]
  },
  {
   "cell_type": "markdown",
   "metadata": {},
   "source": [
    "### 1. Testing functionality of script"
   ]
  },
  {
   "cell_type": "code",
   "execution_count": 2,
   "metadata": {},
   "outputs": [],
   "source": [
    "test_google_search_history.test_extract() # if not AssertionError: outcome is as expected"
   ]
  },
  {
   "cell_type": "code",
   "execution_count": 3,
   "metadata": {},
   "outputs": [],
   "source": [
    "test_google_search_history.test_process() # if not AssertionError: outcome is as expected"
   ]
  },
  {
   "cell_type": "markdown",
   "metadata": {},
   "source": [
    "### 2. Use case: simulated Google Takeout data"
   ]
  },
  {
   "cell_type": "code",
   "execution_count": 4,
   "metadata": {},
   "outputs": [],
   "source": [
    "# # Create seeded simulation data\n",
    "# file_data = POC_google_search_history.BrowserHistory(\n",
    "#         n=1000, site_diff=0.15, time_diff=True, seed=0, fake=False)\n",
    "# POC_google_search_history.__createZip(file_data)"
   ]
  },
  {
   "cell_type": "code",
   "execution_count": 5,
   "metadata": {
    "scrolled": true
   },
   "outputs": [],
   "source": [
    "data = Path('tests/data/takeout.zip') # Enter path to takeout.zip data\n",
    "output = process(data)"
   ]
  },
  {
   "cell_type": "code",
   "execution_count": 6,
   "metadata": {},
   "outputs": [
    {
     "name": "stdout",
     "output_type": "stream",
     "text": [
      " \n",
      "    With this research we want to invesitgate how news consumption has changed during/after the COVID-19 related Dutch \n",
      "    curfew. To examine this, we looked at your Google Search History. First, we divided your browser history into three \n",
      "    periods: before the start of the curfew (before 2021-01-23), during the curfew (between 2021-01-23 and 2021-04-28) \n",
      "    and post curfew (after 2021-04-28). For each period, we counted how many times you searched for a news website \n",
      "    versus any another type of website (i.e., news/other). While counting, we also took the time of day \n",
      "    (i.e., morning/afternoon/evening/night) into account. \n",
      "     \n",
      "    read_files: BrowserHistory.json\n",
      "    Your earliest web search was on 2020-10-20, \n",
      "    The Dutch curfew took place between 2021-01-23 and 2021-04-28,\n",
      "    Your latest web search was on 2021-07-23.\n",
      "    \n"
     ]
    }
   ],
   "source": [
    "print(output['summary'])"
   ]
  },
  {
   "cell_type": "code",
   "execution_count": 7,
   "metadata": {},
   "outputs": [
    {
     "data": {
      "text/html": [
       "<div>\n",
       "<style scoped>\n",
       "    .dataframe tbody tr th:only-of-type {\n",
       "        vertical-align: middle;\n",
       "    }\n",
       "\n",
       "    .dataframe tbody tr th {\n",
       "        vertical-align: top;\n",
       "    }\n",
       "\n",
       "    .dataframe thead th {\n",
       "        text-align: right;\n",
       "    }\n",
       "</style>\n",
       "<table border=\"1\" class=\"dataframe\">\n",
       "  <thead>\n",
       "    <tr style=\"text-align: right;\">\n",
       "      <th></th>\n",
       "      <th>Curfew</th>\n",
       "      <th>Website</th>\n",
       "      <th>Time</th>\n",
       "      <th>Searches</th>\n",
       "    </tr>\n",
       "  </thead>\n",
       "  <tbody>\n",
       "    <tr>\n",
       "      <th>0</th>\n",
       "      <td>before</td>\n",
       "      <td>news</td>\n",
       "      <td>morning</td>\n",
       "      <td>13</td>\n",
       "    </tr>\n",
       "    <tr>\n",
       "      <th>1</th>\n",
       "      <td>before</td>\n",
       "      <td>news</td>\n",
       "      <td>afternoon</td>\n",
       "      <td>11</td>\n",
       "    </tr>\n",
       "    <tr>\n",
       "      <th>2</th>\n",
       "      <td>before</td>\n",
       "      <td>news</td>\n",
       "      <td>evening</td>\n",
       "      <td>13</td>\n",
       "    </tr>\n",
       "    <tr>\n",
       "      <th>3</th>\n",
       "      <td>before</td>\n",
       "      <td>news</td>\n",
       "      <td>night</td>\n",
       "      <td>13</td>\n",
       "    </tr>\n",
       "    <tr>\n",
       "      <th>4</th>\n",
       "      <td>before</td>\n",
       "      <td>other</td>\n",
       "      <td>morning</td>\n",
       "      <td>66</td>\n",
       "    </tr>\n",
       "    <tr>\n",
       "      <th>5</th>\n",
       "      <td>before</td>\n",
       "      <td>other</td>\n",
       "      <td>afternoon</td>\n",
       "      <td>72</td>\n",
       "    </tr>\n",
       "    <tr>\n",
       "      <th>6</th>\n",
       "      <td>before</td>\n",
       "      <td>other</td>\n",
       "      <td>evening</td>\n",
       "      <td>79</td>\n",
       "    </tr>\n",
       "    <tr>\n",
       "      <th>7</th>\n",
       "      <td>before</td>\n",
       "      <td>other</td>\n",
       "      <td>night</td>\n",
       "      <td>66</td>\n",
       "    </tr>\n",
       "    <tr>\n",
       "      <th>8</th>\n",
       "      <td>during</td>\n",
       "      <td>news</td>\n",
       "      <td>morning</td>\n",
       "      <td>21</td>\n",
       "    </tr>\n",
       "    <tr>\n",
       "      <th>9</th>\n",
       "      <td>during</td>\n",
       "      <td>news</td>\n",
       "      <td>afternoon</td>\n",
       "      <td>19</td>\n",
       "    </tr>\n",
       "    <tr>\n",
       "      <th>10</th>\n",
       "      <td>during</td>\n",
       "      <td>news</td>\n",
       "      <td>evening</td>\n",
       "      <td>32</td>\n",
       "    </tr>\n",
       "    <tr>\n",
       "      <th>11</th>\n",
       "      <td>during</td>\n",
       "      <td>news</td>\n",
       "      <td>night</td>\n",
       "      <td>28</td>\n",
       "    </tr>\n",
       "    <tr>\n",
       "      <th>12</th>\n",
       "      <td>during</td>\n",
       "      <td>other</td>\n",
       "      <td>morning</td>\n",
       "      <td>48</td>\n",
       "    </tr>\n",
       "    <tr>\n",
       "      <th>13</th>\n",
       "      <td>during</td>\n",
       "      <td>other</td>\n",
       "      <td>afternoon</td>\n",
       "      <td>46</td>\n",
       "    </tr>\n",
       "    <tr>\n",
       "      <th>14</th>\n",
       "      <td>during</td>\n",
       "      <td>other</td>\n",
       "      <td>evening</td>\n",
       "      <td>83</td>\n",
       "    </tr>\n",
       "    <tr>\n",
       "      <th>15</th>\n",
       "      <td>during</td>\n",
       "      <td>other</td>\n",
       "      <td>night</td>\n",
       "      <td>57</td>\n",
       "    </tr>\n",
       "    <tr>\n",
       "      <th>16</th>\n",
       "      <td>post</td>\n",
       "      <td>news</td>\n",
       "      <td>morning</td>\n",
       "      <td>11</td>\n",
       "    </tr>\n",
       "    <tr>\n",
       "      <th>17</th>\n",
       "      <td>post</td>\n",
       "      <td>news</td>\n",
       "      <td>afternoon</td>\n",
       "      <td>12</td>\n",
       "    </tr>\n",
       "    <tr>\n",
       "      <th>18</th>\n",
       "      <td>post</td>\n",
       "      <td>news</td>\n",
       "      <td>evening</td>\n",
       "      <td>14</td>\n",
       "    </tr>\n",
       "    <tr>\n",
       "      <th>19</th>\n",
       "      <td>post</td>\n",
       "      <td>news</td>\n",
       "      <td>night</td>\n",
       "      <td>13</td>\n",
       "    </tr>\n",
       "    <tr>\n",
       "      <th>20</th>\n",
       "      <td>post</td>\n",
       "      <td>other</td>\n",
       "      <td>morning</td>\n",
       "      <td>60</td>\n",
       "    </tr>\n",
       "    <tr>\n",
       "      <th>21</th>\n",
       "      <td>post</td>\n",
       "      <td>other</td>\n",
       "      <td>afternoon</td>\n",
       "      <td>77</td>\n",
       "    </tr>\n",
       "    <tr>\n",
       "      <th>22</th>\n",
       "      <td>post</td>\n",
       "      <td>other</td>\n",
       "      <td>evening</td>\n",
       "      <td>79</td>\n",
       "    </tr>\n",
       "    <tr>\n",
       "      <th>23</th>\n",
       "      <td>post</td>\n",
       "      <td>other</td>\n",
       "      <td>night</td>\n",
       "      <td>67</td>\n",
       "    </tr>\n",
       "  </tbody>\n",
       "</table>\n",
       "</div>"
      ],
      "text/plain": [
       "    Curfew Website       Time  Searches\n",
       "0   before    news    morning        13\n",
       "1   before    news  afternoon        11\n",
       "2   before    news    evening        13\n",
       "3   before    news      night        13\n",
       "4   before   other    morning        66\n",
       "5   before   other  afternoon        72\n",
       "6   before   other    evening        79\n",
       "7   before   other      night        66\n",
       "8   during    news    morning        21\n",
       "9   during    news  afternoon        19\n",
       "10  during    news    evening        32\n",
       "11  during    news      night        28\n",
       "12  during   other    morning        48\n",
       "13  during   other  afternoon        46\n",
       "14  during   other    evening        83\n",
       "15  during   other      night        57\n",
       "16    post    news    morning        11\n",
       "17    post    news  afternoon        12\n",
       "18    post    news    evening        14\n",
       "19    post    news      night        13\n",
       "20    post   other    morning        60\n",
       "21    post   other  afternoon        77\n",
       "22    post   other    evening        79\n",
       "23    post   other      night        67"
      ]
     },
     "execution_count": 7,
     "metadata": {},
     "output_type": "execute_result"
    }
   ],
   "source": [
    "overview = output['data_frames'][0]\n",
    "overview"
   ]
  },
  {
   "cell_type": "code",
   "execution_count": 8,
   "metadata": {},
   "outputs": [
    {
     "data": {
      "text/html": [
       "<div>\n",
       "<style scoped>\n",
       "    .dataframe tbody tr th:only-of-type {\n",
       "        vertical-align: middle;\n",
       "    }\n",
       "\n",
       "    .dataframe tbody tr th {\n",
       "        vertical-align: top;\n",
       "    }\n",
       "\n",
       "    .dataframe thead th {\n",
       "        text-align: right;\n",
       "    }\n",
       "</style>\n",
       "<table border=\"1\" class=\"dataframe\">\n",
       "  <thead>\n",
       "    <tr style=\"text-align: right;\">\n",
       "      <th></th>\n",
       "      <th>Searches</th>\n",
       "      <th>%</th>\n",
       "    </tr>\n",
       "    <tr>\n",
       "      <th>Website</th>\n",
       "      <th></th>\n",
       "      <th></th>\n",
       "    </tr>\n",
       "  </thead>\n",
       "  <tbody>\n",
       "    <tr>\n",
       "      <th>news</th>\n",
       "      <td>200</td>\n",
       "      <td>0.2</td>\n",
       "    </tr>\n",
       "    <tr>\n",
       "      <th>other</th>\n",
       "      <td>800</td>\n",
       "      <td>0.8</td>\n",
       "    </tr>\n",
       "  </tbody>\n",
       "</table>\n",
       "</div>"
      ],
      "text/plain": [
       "         Searches    %\n",
       "Website               \n",
       "news          200  0.2\n",
       "other         800  0.8"
      ]
     },
     "execution_count": 8,
     "metadata": {},
     "output_type": "execute_result"
    }
   ],
   "source": [
    "curf_web = overview.groupby(['Website']).sum()\n",
    "curf_web['%'] = curf_web.apply(lambda x: x/x.sum())\n",
    "curf_web"
   ]
  },
  {
   "cell_type": "code",
   "execution_count": 9,
   "metadata": {},
   "outputs": [
    {
     "data": {
      "text/html": [
       "<div>\n",
       "<style scoped>\n",
       "    .dataframe tbody tr th:only-of-type {\n",
       "        vertical-align: middle;\n",
       "    }\n",
       "\n",
       "    .dataframe tbody tr th {\n",
       "        vertical-align: top;\n",
       "    }\n",
       "\n",
       "    .dataframe thead th {\n",
       "        text-align: right;\n",
       "    }\n",
       "</style>\n",
       "<table border=\"1\" class=\"dataframe\">\n",
       "  <thead>\n",
       "    <tr style=\"text-align: right;\">\n",
       "      <th></th>\n",
       "      <th></th>\n",
       "      <th>Searches</th>\n",
       "      <th>%</th>\n",
       "    </tr>\n",
       "    <tr>\n",
       "      <th>Curfew</th>\n",
       "      <th>Website</th>\n",
       "      <th></th>\n",
       "      <th></th>\n",
       "    </tr>\n",
       "  </thead>\n",
       "  <tbody>\n",
       "    <tr>\n",
       "      <th rowspan=\"2\" valign=\"top\">before</th>\n",
       "      <th>news</th>\n",
       "      <td>50</td>\n",
       "      <td>0.150150</td>\n",
       "    </tr>\n",
       "    <tr>\n",
       "      <th>other</th>\n",
       "      <td>283</td>\n",
       "      <td>0.849850</td>\n",
       "    </tr>\n",
       "    <tr>\n",
       "      <th rowspan=\"2\" valign=\"top\">during</th>\n",
       "      <th>news</th>\n",
       "      <td>100</td>\n",
       "      <td>0.299401</td>\n",
       "    </tr>\n",
       "    <tr>\n",
       "      <th>other</th>\n",
       "      <td>234</td>\n",
       "      <td>0.700599</td>\n",
       "    </tr>\n",
       "    <tr>\n",
       "      <th rowspan=\"2\" valign=\"top\">post</th>\n",
       "      <th>news</th>\n",
       "      <td>50</td>\n",
       "      <td>0.150150</td>\n",
       "    </tr>\n",
       "    <tr>\n",
       "      <th>other</th>\n",
       "      <td>283</td>\n",
       "      <td>0.849850</td>\n",
       "    </tr>\n",
       "  </tbody>\n",
       "</table>\n",
       "</div>"
      ],
      "text/plain": [
       "                Searches         %\n",
       "Curfew Website                    \n",
       "before news           50  0.150150\n",
       "       other         283  0.849850\n",
       "during news          100  0.299401\n",
       "       other         234  0.700599\n",
       "post   news           50  0.150150\n",
       "       other         283  0.849850"
      ]
     },
     "execution_count": 9,
     "metadata": {},
     "output_type": "execute_result"
    }
   ],
   "source": [
    "curf_web = overview.groupby(['Curfew', 'Website']).sum()\n",
    "curf_web['%'] = curf_web.groupby(level=0).apply(lambda x: x/x.sum())\n",
    "curf_web"
   ]
  },
  {
   "cell_type": "code",
   "execution_count": 10,
   "metadata": {},
   "outputs": [
    {
     "data": {
      "text/html": [
       "<div>\n",
       "<style scoped>\n",
       "    .dataframe tbody tr th:only-of-type {\n",
       "        vertical-align: middle;\n",
       "    }\n",
       "\n",
       "    .dataframe tbody tr th {\n",
       "        vertical-align: top;\n",
       "    }\n",
       "\n",
       "    .dataframe thead th {\n",
       "        text-align: right;\n",
       "    }\n",
       "</style>\n",
       "<table border=\"1\" class=\"dataframe\">\n",
       "  <thead>\n",
       "    <tr style=\"text-align: right;\">\n",
       "      <th></th>\n",
       "      <th></th>\n",
       "      <th></th>\n",
       "      <th>Searches</th>\n",
       "      <th>%</th>\n",
       "    </tr>\n",
       "    <tr>\n",
       "      <th>Curfew</th>\n",
       "      <th>Time</th>\n",
       "      <th>Website</th>\n",
       "      <th></th>\n",
       "      <th></th>\n",
       "    </tr>\n",
       "  </thead>\n",
       "  <tbody>\n",
       "    <tr>\n",
       "      <th rowspan=\"8\" valign=\"top\">before</th>\n",
       "      <th rowspan=\"2\" valign=\"top\">afternoon</th>\n",
       "      <th>news</th>\n",
       "      <td>11</td>\n",
       "      <td>0.132530</td>\n",
       "    </tr>\n",
       "    <tr>\n",
       "      <th>other</th>\n",
       "      <td>72</td>\n",
       "      <td>0.867470</td>\n",
       "    </tr>\n",
       "    <tr>\n",
       "      <th rowspan=\"2\" valign=\"top\">evening</th>\n",
       "      <th>news</th>\n",
       "      <td>13</td>\n",
       "      <td>0.141304</td>\n",
       "    </tr>\n",
       "    <tr>\n",
       "      <th>other</th>\n",
       "      <td>79</td>\n",
       "      <td>0.858696</td>\n",
       "    </tr>\n",
       "    <tr>\n",
       "      <th rowspan=\"2\" valign=\"top\">morning</th>\n",
       "      <th>news</th>\n",
       "      <td>13</td>\n",
       "      <td>0.164557</td>\n",
       "    </tr>\n",
       "    <tr>\n",
       "      <th>other</th>\n",
       "      <td>66</td>\n",
       "      <td>0.835443</td>\n",
       "    </tr>\n",
       "    <tr>\n",
       "      <th rowspan=\"2\" valign=\"top\">night</th>\n",
       "      <th>news</th>\n",
       "      <td>13</td>\n",
       "      <td>0.164557</td>\n",
       "    </tr>\n",
       "    <tr>\n",
       "      <th>other</th>\n",
       "      <td>66</td>\n",
       "      <td>0.835443</td>\n",
       "    </tr>\n",
       "    <tr>\n",
       "      <th rowspan=\"8\" valign=\"top\">during</th>\n",
       "      <th rowspan=\"2\" valign=\"top\">afternoon</th>\n",
       "      <th>news</th>\n",
       "      <td>19</td>\n",
       "      <td>0.292308</td>\n",
       "    </tr>\n",
       "    <tr>\n",
       "      <th>other</th>\n",
       "      <td>46</td>\n",
       "      <td>0.707692</td>\n",
       "    </tr>\n",
       "    <tr>\n",
       "      <th rowspan=\"2\" valign=\"top\">evening</th>\n",
       "      <th>news</th>\n",
       "      <td>32</td>\n",
       "      <td>0.278261</td>\n",
       "    </tr>\n",
       "    <tr>\n",
       "      <th>other</th>\n",
       "      <td>83</td>\n",
       "      <td>0.721739</td>\n",
       "    </tr>\n",
       "    <tr>\n",
       "      <th rowspan=\"2\" valign=\"top\">morning</th>\n",
       "      <th>news</th>\n",
       "      <td>21</td>\n",
       "      <td>0.304348</td>\n",
       "    </tr>\n",
       "    <tr>\n",
       "      <th>other</th>\n",
       "      <td>48</td>\n",
       "      <td>0.695652</td>\n",
       "    </tr>\n",
       "    <tr>\n",
       "      <th rowspan=\"2\" valign=\"top\">night</th>\n",
       "      <th>news</th>\n",
       "      <td>28</td>\n",
       "      <td>0.329412</td>\n",
       "    </tr>\n",
       "    <tr>\n",
       "      <th>other</th>\n",
       "      <td>57</td>\n",
       "      <td>0.670588</td>\n",
       "    </tr>\n",
       "    <tr>\n",
       "      <th rowspan=\"8\" valign=\"top\">post</th>\n",
       "      <th rowspan=\"2\" valign=\"top\">afternoon</th>\n",
       "      <th>news</th>\n",
       "      <td>12</td>\n",
       "      <td>0.134831</td>\n",
       "    </tr>\n",
       "    <tr>\n",
       "      <th>other</th>\n",
       "      <td>77</td>\n",
       "      <td>0.865169</td>\n",
       "    </tr>\n",
       "    <tr>\n",
       "      <th rowspan=\"2\" valign=\"top\">evening</th>\n",
       "      <th>news</th>\n",
       "      <td>14</td>\n",
       "      <td>0.150538</td>\n",
       "    </tr>\n",
       "    <tr>\n",
       "      <th>other</th>\n",
       "      <td>79</td>\n",
       "      <td>0.849462</td>\n",
       "    </tr>\n",
       "    <tr>\n",
       "      <th rowspan=\"2\" valign=\"top\">morning</th>\n",
       "      <th>news</th>\n",
       "      <td>11</td>\n",
       "      <td>0.154930</td>\n",
       "    </tr>\n",
       "    <tr>\n",
       "      <th>other</th>\n",
       "      <td>60</td>\n",
       "      <td>0.845070</td>\n",
       "    </tr>\n",
       "    <tr>\n",
       "      <th rowspan=\"2\" valign=\"top\">night</th>\n",
       "      <th>news</th>\n",
       "      <td>13</td>\n",
       "      <td>0.162500</td>\n",
       "    </tr>\n",
       "    <tr>\n",
       "      <th>other</th>\n",
       "      <td>67</td>\n",
       "      <td>0.837500</td>\n",
       "    </tr>\n",
       "  </tbody>\n",
       "</table>\n",
       "</div>"
      ],
      "text/plain": [
       "                          Searches         %\n",
       "Curfew Time      Website                    \n",
       "before afternoon news           11  0.132530\n",
       "                 other          72  0.867470\n",
       "       evening   news           13  0.141304\n",
       "                 other          79  0.858696\n",
       "       morning   news           13  0.164557\n",
       "                 other          66  0.835443\n",
       "       night     news           13  0.164557\n",
       "                 other          66  0.835443\n",
       "during afternoon news           19  0.292308\n",
       "                 other          46  0.707692\n",
       "       evening   news           32  0.278261\n",
       "                 other          83  0.721739\n",
       "       morning   news           21  0.304348\n",
       "                 other          48  0.695652\n",
       "       night     news           28  0.329412\n",
       "                 other          57  0.670588\n",
       "post   afternoon news           12  0.134831\n",
       "                 other          77  0.865169\n",
       "       evening   news           14  0.150538\n",
       "                 other          79  0.849462\n",
       "       morning   news           11  0.154930\n",
       "                 other          60  0.845070\n",
       "       night     news           13  0.162500\n",
       "                 other          67  0.837500"
      ]
     },
     "execution_count": 10,
     "metadata": {},
     "output_type": "execute_result"
    }
   ],
   "source": [
    "curf_time_web = overview.groupby(['Curfew', 'Time', 'Website']).sum()\n",
    "curf_time_web['%'] = curf_time_web.groupby(['Curfew', 'Time']).apply(lambda x: x/x.sum())\n",
    "curf_time_web"
   ]
  },
  {
   "cell_type": "code",
   "execution_count": 11,
   "metadata": {},
   "outputs": [
    {
     "data": {
      "text/plain": [
       "<AxesSubplot:xlabel='Website', ylabel='Searches'>"
      ]
     },
     "execution_count": 11,
     "metadata": {},
     "output_type": "execute_result"
    },
    {
     "data": {
      "image/png": "[encoded data removed]",
      "text/plain": [
       "<Figure size 432x288 with 1 Axes>"
      ]
     },
     "metadata": {
      "needs_background": "light"
     },
     "output_type": "display_data"
    }
   ],
   "source": [
    "import seaborn as sns\n",
    "sns.barplot(x='Website', y='Searches', data=overview)"
   ]
  },
  {
   "cell_type": "code",
   "execution_count": 12,
   "metadata": {},
   "outputs": [
    {
     "data": {
      "text/plain": [
       "<AxesSubplot:xlabel='Curfew', ylabel='Searches'>"
      ]
     },
     "execution_count": 12,
     "metadata": {},
     "output_type": "execute_result"
    },
    {
     "data": {
      "image/png": "[encoded data removed]",
      "text/plain": [
       "<Figure size 432x288 with 1 Axes>"
      ]
     },
     "metadata": {
      "needs_background": "light"
     },
     "output_type": "display_data"
    }
   ],
   "source": [
    "sns.barplot(x='Curfew', y='Searches', hue='Website', data=overview)"
   ]
  },
  {
   "cell_type": "code",
   "execution_count": 13,
   "metadata": {},
   "outputs": [
    {
     "data": {
      "text/plain": [
       "<AxesSubplot:xlabel='Time', ylabel='Searches'>"
      ]
     },
     "execution_count": 13,
     "metadata": {},
     "output_type": "execute_result"
    },
    {
     "data": {
      "image/png": "[encoded data removed]",
      "text/plain": [
       "<Figure size 432x288 with 1 Axes>"
      ]
     },
     "metadata": {
      "needs_background": "light"
     },
     "output_type": "display_data"
    }
   ],
   "source": [
    "sns.barplot(x='Time', y='Searches', hue='Website', data=overview)"
   ]
  }
 ],
 "metadata": {
  "kernelspec": {
   "display_name": "Python 3",
   "language": "python",
   "name": "python3"
  },
  "language_info": {
   "codemirror_mode": {
    "name": "ipython",
    "version": 3
   },
   "file_extension": ".py",
   "mimetype": "text/x-python",
   "name": "python",
   "nbconvert_exporter": "python",
   "pygments_lexer": "ipython3",
   "version": "3.8.5"
  }
 },
 "nbformat": 4,
 "nbformat_minor": 4
}
